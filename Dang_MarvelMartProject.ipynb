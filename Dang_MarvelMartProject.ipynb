{
 "cells": [
  {
   "cell_type": "markdown",
   "id": "f217308a-e350-4038-82e1-9f37ad2539ae",
   "metadata": {},
   "source": [
    "## Python Project - Marvel Mart Project\n",
    "## Amanda Dang\n",
    "## March 13, 2022"
   ]
  },
  {
   "cell_type": "code",
   "execution_count": 1,
   "id": "e38f35d8-580e-4c62-95b4-f371eb1a3b6a",
   "metadata": {},
   "outputs": [],
   "source": [
    "import numpy as np\n",
    "import pandas as pd\n",
    "import matplotlib.pyplot as plt\n",
    "import seaborn as sns\n",
    "pd.set_option('display.float_format', lambda x: '%.3f' % x)"
   ]
  },
  {
   "cell_type": "markdown",
   "id": "a870aa8e-9d6b-4b90-be73-525d4d33d4e9",
   "metadata": {},
   "source": [
    "Part 1: Cleaning the Data"
   ]
  },
  {
   "cell_type": "code",
   "execution_count": 2,
   "id": "a4c7c7d7-6b99-434c-8e1e-740f639efdc5",
   "metadata": {},
   "outputs": [],
   "source": [
    "# this creates a dataframe for us to read the csv file.\n",
    "salesDF = pd.read_csv ('MMDataSamples/MM_Sales.csv')"
   ]
  },
  {
   "cell_type": "code",
   "execution_count": 3,
   "id": "c1bd0c90-427b-4547-aae3-4d49dcee6ce1",
   "metadata": {},
   "outputs": [
    {
     "data": {
      "text/html": [
       "<div>\n",
       "<style scoped>\n",
       "    .dataframe tbody tr th:only-of-type {\n",
       "        vertical-align: middle;\n",
       "    }\n",
       "\n",
       "    .dataframe tbody tr th {\n",
       "        vertical-align: top;\n",
       "    }\n",
       "\n",
       "    .dataframe thead th {\n",
       "        text-align: right;\n",
       "    }\n",
       "</style>\n",
       "<table border=\"1\" class=\"dataframe\">\n",
       "  <thead>\n",
       "    <tr style=\"text-align: right;\">\n",
       "      <th></th>\n",
       "      <th>Region</th>\n",
       "      <th>Country</th>\n",
       "      <th>Item Type</th>\n",
       "      <th>Sales Channel</th>\n",
       "      <th>Order Priority</th>\n",
       "      <th>Order Date</th>\n",
       "      <th>Order ID</th>\n",
       "      <th>Ship Date</th>\n",
       "      <th>Units Sold</th>\n",
       "      <th>Unit Price</th>\n",
       "      <th>Unit Cost</th>\n",
       "      <th>Total Revenue</th>\n",
       "      <th>Total Cost</th>\n",
       "      <th>Total Profit</th>\n",
       "    </tr>\n",
       "  </thead>\n",
       "  <tbody>\n",
       "    <tr>\n",
       "      <th>0</th>\n",
       "      <td>Sub-Saharan Africa</td>\n",
       "      <td>Namibia</td>\n",
       "      <td>Household</td>\n",
       "      <td>Offline</td>\n",
       "      <td>M</td>\n",
       "      <td>8/31/15</td>\n",
       "      <td>897751939</td>\n",
       "      <td>10/12/15</td>\n",
       "      <td>3604</td>\n",
       "      <td>668.270</td>\n",
       "      <td>502.540</td>\n",
       "      <td>2408445.080</td>\n",
       "      <td>1811154.160</td>\n",
       "      <td>597290.920</td>\n",
       "    </tr>\n",
       "    <tr>\n",
       "      <th>1</th>\n",
       "      <td>Europe</td>\n",
       "      <td>Iceland</td>\n",
       "      <td>Baby Food</td>\n",
       "      <td>Offline</td>\n",
       "      <td>L</td>\n",
       "      <td>11/20/10</td>\n",
       "      <td>599480426</td>\n",
       "      <td>1/9/11</td>\n",
       "      <td>8435</td>\n",
       "      <td>255.280</td>\n",
       "      <td>159.420</td>\n",
       "      <td>2153286.800</td>\n",
       "      <td>1344707.700</td>\n",
       "      <td>808579.100</td>\n",
       "    </tr>\n",
       "    <tr>\n",
       "      <th>2</th>\n",
       "      <td>Europe</td>\n",
       "      <td>Russia</td>\n",
       "      <td>Meat</td>\n",
       "      <td>Online</td>\n",
       "      <td>L</td>\n",
       "      <td>6/22/17</td>\n",
       "      <td>538911855</td>\n",
       "      <td>6/25/17</td>\n",
       "      <td>4848</td>\n",
       "      <td>421.890</td>\n",
       "      <td>364.690</td>\n",
       "      <td>2045322.720</td>\n",
       "      <td>1768017.120</td>\n",
       "      <td>277305.600</td>\n",
       "    </tr>\n",
       "    <tr>\n",
       "      <th>3</th>\n",
       "      <td>Europe</td>\n",
       "      <td>Moldova</td>\n",
       "      <td>Meat</td>\n",
       "      <td>Online</td>\n",
       "      <td>L</td>\n",
       "      <td>2/28/12</td>\n",
       "      <td>459845054</td>\n",
       "      <td>3/20/12</td>\n",
       "      <td>7225</td>\n",
       "      <td>421.890</td>\n",
       "      <td>364.690</td>\n",
       "      <td>3048155.250</td>\n",
       "      <td>2634885.250</td>\n",
       "      <td>413270.000</td>\n",
       "    </tr>\n",
       "    <tr>\n",
       "      <th>4</th>\n",
       "      <td>Europe</td>\n",
       "      <td>Malta</td>\n",
       "      <td>Cereal</td>\n",
       "      <td>Online</td>\n",
       "      <td>H</td>\n",
       "      <td>8/12/10</td>\n",
       "      <td>626391351</td>\n",
       "      <td>9/13/10</td>\n",
       "      <td>1975</td>\n",
       "      <td>205.700</td>\n",
       "      <td>117.110</td>\n",
       "      <td>406257.500</td>\n",
       "      <td>231292.250</td>\n",
       "      <td>174965.250</td>\n",
       "    </tr>\n",
       "    <tr>\n",
       "      <th>...</th>\n",
       "      <td>...</td>\n",
       "      <td>...</td>\n",
       "      <td>...</td>\n",
       "      <td>...</td>\n",
       "      <td>...</td>\n",
       "      <td>...</td>\n",
       "      <td>...</td>\n",
       "      <td>...</td>\n",
       "      <td>...</td>\n",
       "      <td>...</td>\n",
       "      <td>...</td>\n",
       "      <td>...</td>\n",
       "      <td>...</td>\n",
       "      <td>...</td>\n",
       "    </tr>\n",
       "    <tr>\n",
       "      <th>49995</th>\n",
       "      <td>Central America and the Caribbean</td>\n",
       "      <td>Dominican Republic</td>\n",
       "      <td>Baby Food</td>\n",
       "      <td>Online</td>\n",
       "      <td>L</td>\n",
       "      <td>2/12/15</td>\n",
       "      <td>350891578</td>\n",
       "      <td>3/15/15</td>\n",
       "      <td>5470</td>\n",
       "      <td>255.280</td>\n",
       "      <td>159.420</td>\n",
       "      <td>1396381.600</td>\n",
       "      <td>872027.400</td>\n",
       "      <td>524354.200</td>\n",
       "    </tr>\n",
       "    <tr>\n",
       "      <th>49996</th>\n",
       "      <td>Central America and the Caribbean</td>\n",
       "      <td>Cuba</td>\n",
       "      <td>Office Supplies</td>\n",
       "      <td>Online</td>\n",
       "      <td>H</td>\n",
       "      <td>3/28/13</td>\n",
       "      <td>748260629</td>\n",
       "      <td>5/3/13</td>\n",
       "      <td>5803</td>\n",
       "      <td>651.210</td>\n",
       "      <td>524.960</td>\n",
       "      <td>3778971.630</td>\n",
       "      <td>3046342.880</td>\n",
       "      <td>732628.750</td>\n",
       "    </tr>\n",
       "    <tr>\n",
       "      <th>49997</th>\n",
       "      <td>Asia</td>\n",
       "      <td>Vietnam</td>\n",
       "      <td>Personal Care</td>\n",
       "      <td>Online</td>\n",
       "      <td>M</td>\n",
       "      <td>11/11/16</td>\n",
       "      <td>322932231</td>\n",
       "      <td>12/18/16</td>\n",
       "      <td>1678</td>\n",
       "      <td>81.730</td>\n",
       "      <td>56.670</td>\n",
       "      <td>137142.940</td>\n",
       "      <td>95092.260</td>\n",
       "      <td>42050.680</td>\n",
       "    </tr>\n",
       "    <tr>\n",
       "      <th>49998</th>\n",
       "      <td>Sub-Saharan Africa</td>\n",
       "      <td>Sierra Leone</td>\n",
       "      <td>Clothes</td>\n",
       "      <td>Offline</td>\n",
       "      <td>M</td>\n",
       "      <td>8/28/10</td>\n",
       "      <td>492142713</td>\n",
       "      <td>9/21/10</td>\n",
       "      <td>4820</td>\n",
       "      <td>109.280</td>\n",
       "      <td>35.840</td>\n",
       "      <td>526729.600</td>\n",
       "      <td>172748.800</td>\n",
       "      <td>353980.800</td>\n",
       "    </tr>\n",
       "    <tr>\n",
       "      <th>49999</th>\n",
       "      <td>Sub-Saharan Africa</td>\n",
       "      <td>Eritrea</td>\n",
       "      <td>Vegetables</td>\n",
       "      <td>Offline</td>\n",
       "      <td>C</td>\n",
       "      <td>6/5/14</td>\n",
       "      <td>943440902</td>\n",
       "      <td>6/30/14</td>\n",
       "      <td>3983</td>\n",
       "      <td>154.060</td>\n",
       "      <td>90.930</td>\n",
       "      <td>613620.980</td>\n",
       "      <td>362174.190</td>\n",
       "      <td>251446.790</td>\n",
       "    </tr>\n",
       "  </tbody>\n",
       "</table>\n",
       "<p>50000 rows × 14 columns</p>\n",
       "</div>"
      ],
      "text/plain": [
       "                                  Region             Country        Item Type  \\\n",
       "0                     Sub-Saharan Africa             Namibia        Household   \n",
       "1                                 Europe             Iceland        Baby Food   \n",
       "2                                 Europe              Russia             Meat   \n",
       "3                                 Europe            Moldova              Meat   \n",
       "4                                 Europe               Malta           Cereal   \n",
       "...                                  ...                 ...              ...   \n",
       "49995  Central America and the Caribbean  Dominican Republic        Baby Food   \n",
       "49996  Central America and the Caribbean                Cuba  Office Supplies   \n",
       "49997                               Asia             Vietnam    Personal Care   \n",
       "49998                 Sub-Saharan Africa        Sierra Leone          Clothes   \n",
       "49999                 Sub-Saharan Africa             Eritrea       Vegetables   \n",
       "\n",
       "      Sales Channel Order Priority Order Date   Order ID Ship Date  \\\n",
       "0           Offline              M    8/31/15  897751939  10/12/15   \n",
       "1           Offline              L   11/20/10  599480426    1/9/11   \n",
       "2            Online              L    6/22/17  538911855   6/25/17   \n",
       "3            Online              L    2/28/12  459845054   3/20/12   \n",
       "4            Online              H    8/12/10  626391351   9/13/10   \n",
       "...             ...            ...        ...        ...       ...   \n",
       "49995        Online              L    2/12/15  350891578   3/15/15   \n",
       "49996        Online              H    3/28/13  748260629    5/3/13   \n",
       "49997        Online              M   11/11/16  322932231  12/18/16   \n",
       "49998       Offline              M    8/28/10  492142713   9/21/10   \n",
       "49999       Offline              C     6/5/14  943440902   6/30/14   \n",
       "\n",
       "       Units Sold  Unit Price  Unit Cost  Total Revenue  Total Cost  \\\n",
       "0            3604     668.270    502.540    2408445.080 1811154.160   \n",
       "1            8435     255.280    159.420    2153286.800 1344707.700   \n",
       "2            4848     421.890    364.690    2045322.720 1768017.120   \n",
       "3            7225     421.890    364.690    3048155.250 2634885.250   \n",
       "4            1975     205.700    117.110     406257.500  231292.250   \n",
       "...           ...         ...        ...            ...         ...   \n",
       "49995        5470     255.280    159.420    1396381.600  872027.400   \n",
       "49996        5803     651.210    524.960    3778971.630 3046342.880   \n",
       "49997        1678      81.730     56.670     137142.940   95092.260   \n",
       "49998        4820     109.280     35.840     526729.600  172748.800   \n",
       "49999        3983     154.060     90.930     613620.980  362174.190   \n",
       "\n",
       "       Total Profit  \n",
       "0        597290.920  \n",
       "1        808579.100  \n",
       "2        277305.600  \n",
       "3        413270.000  \n",
       "4        174965.250  \n",
       "...             ...  \n",
       "49995    524354.200  \n",
       "49996    732628.750  \n",
       "49997     42050.680  \n",
       "49998    353980.800  \n",
       "49999    251446.790  \n",
       "\n",
       "[50000 rows x 14 columns]"
      ]
     },
     "execution_count": 3,
     "metadata": {},
     "output_type": "execute_result"
    }
   ],
   "source": [
    "salesDF"
   ]
  },
  {
   "cell_type": "code",
   "execution_count": 4,
   "id": "9f6d5952-9fa1-48a8-8bf8-d05eaade7601",
   "metadata": {},
   "outputs": [
    {
     "name": "stdout",
     "output_type": "stream",
     "text": [
      "<class 'pandas.core.frame.DataFrame'>\n",
      "RangeIndex: 50000 entries, 0 to 49999\n",
      "Data columns (total 14 columns):\n",
      " #   Column          Non-Null Count  Dtype  \n",
      "---  ------          --------------  -----  \n",
      " 0   Region          50000 non-null  object \n",
      " 1   Country         50000 non-null  object \n",
      " 2   Item Type       49994 non-null  object \n",
      " 3   Sales Channel   50000 non-null  object \n",
      " 4   Order Priority  49985 non-null  object \n",
      " 5   Order Date      50000 non-null  object \n",
      " 6   Order ID        50000 non-null  object \n",
      " 7   Ship Date       50000 non-null  object \n",
      " 8   Units Sold      50000 non-null  int64  \n",
      " 9   Unit Price      50000 non-null  float64\n",
      " 10  Unit Cost       50000 non-null  float64\n",
      " 11  Total Revenue   50000 non-null  float64\n",
      " 12  Total Cost      50000 non-null  float64\n",
      " 13  Total Profit    50000 non-null  float64\n",
      "dtypes: float64(5), int64(1), object(8)\n",
      "memory usage: 5.3+ MB\n"
     ]
    }
   ],
   "source": [
    "# this shows us the data type for each of the columns.\n",
    "salesDF.info()"
   ]
  },
  {
   "cell_type": "code",
   "execution_count": 5,
   "id": "14e9f166-adab-4ba1-b522-4dbbda51046d",
   "metadata": {},
   "outputs": [],
   "source": [
    "# this creates a copy of the csv file so that we can save the cleaned data into it.\n",
    "cleanSales = salesDF.copy()"
   ]
  },
  {
   "cell_type": "code",
   "execution_count": 6,
   "id": "a7b43376-dd54-4aad-b34f-2f9b2089c0fd",
   "metadata": {},
   "outputs": [
    {
     "name": "stdout",
     "output_type": "stream",
     "text": [
      "Region             0\n",
      "Country            0\n",
      "Item Type          6\n",
      "Sales Channel      0\n",
      "Order Priority    15\n",
      "Order Date         0\n",
      "Order ID           0\n",
      "Ship Date          0\n",
      "Units Sold         0\n",
      "Unit Price         0\n",
      "Unit Cost          0\n",
      "Total Revenue      0\n",
      "Total Cost         0\n",
      "Total Profit       0\n",
      "dtype: int64\n"
     ]
    }
   ],
   "source": [
    "# this checks for all the missing data in each of the individual columns in the csv file.\n",
    "sumNA = salesDF.isna().sum()\n",
    "print(sumNA)"
   ]
  },
  {
   "cell_type": "code",
   "execution_count": 7,
   "id": "9f4e829e-98a2-443c-9e09-6a6de64f7ae6",
   "metadata": {},
   "outputs": [
    {
     "name": "stdout",
     "output_type": "stream",
     "text": [
      "Testing for erroneous data in Country:\n",
      "NULL\n",
      "NULL\n",
      "NULL\n",
      "Number of erroneous Country data: 3\n"
     ]
    }
   ],
   "source": [
    "# this cleans the Country column. It tries to convert each Country to a float, and if it runs, then it needs\n",
    "# to be cleaned. If any of the rows have a number, it will be replaced with \"NULL\".\n",
    "count = 0\n",
    "\n",
    "print (\"Testing for erroneous data in Country:\")\n",
    "for index, row in cleanSales.iterrows():\n",
    "    try:\n",
    "        row.loc['Country']= float(row.loc['Country'])\n",
    "        cleanSales.loc[int(index),'Country'] = 'NULL'\n",
    "        print(cleanSales.loc[int(index), 'Country'])\n",
    "        count += 1\n",
    "    except: \n",
    "        1 == 1\n",
    "\n",
    "print(f\"Number of erroneous Country data: {count}\")"
   ]
  },
  {
   "cell_type": "code",
   "execution_count": 8,
   "id": "c59d8778-ba61-42e9-86b3-e097c21a60ef",
   "metadata": {},
   "outputs": [],
   "source": [
    "# this cleans the Item Type. There are 6 rows without data, so we need to remove them. This replaces the \n",
    "# missing data in the column with \"NULL\".\n",
    "cleanSales['Item Type'].fillna(\"NULL\", inplace=True)"
   ]
  },
  {
   "cell_type": "code",
   "execution_count": 9,
   "id": "b413901c-ba50-4176-8cf4-a5358eff4fed",
   "metadata": {},
   "outputs": [],
   "source": [
    "# this cleans the Order Priority. There are 6 rows without data, so we need to remove them. This replaces the \n",
    "# missing data in the column with \"NULL\".\n",
    "cleanSales['Order Priority'].fillna(\"NULL\", inplace=True)"
   ]
  },
  {
   "cell_type": "code",
   "execution_count": 10,
   "id": "e6e81ad5-6615-4043-a125-e92bae8966fd",
   "metadata": {},
   "outputs": [
    {
     "name": "stdout",
     "output_type": "stream",
     "text": [
      "Testing for erroneous data in Order ID:\n",
      "Cosmetics\n",
      "Fruits\n",
      "Snacks\n",
      "Meat\n",
      "Snacks\n",
      "Number of erroneous Order ID data: 5\n"
     ]
    }
   ],
   "source": [
    "# this cleans the Country column. It tries to convert each Order ID to a float, and if it fails, then it is a \n",
    "# string. If any of the rows aren't a number, it will be replaced with 0. \n",
    "count = 0\n",
    "\n",
    "print (\"Testing for erroneous data in Order ID:\")\n",
    "for index, row in cleanSales.iterrows():\n",
    "    try:\n",
    "        row.loc['Order ID'] = float(row.loc['Order ID'])\n",
    "    except:\n",
    "        print(row.loc['Order ID'])\n",
    "        cleanSales.loc[int(index),'Order ID'] = 0\n",
    "        count += 1\n",
    "        \n",
    "print (f\"Number of erroneous Order ID data: {count}\")"
   ]
  },
  {
   "cell_type": "code",
   "execution_count": 56,
   "id": "704ffb99-b680-4a00-971a-8baf3f4c5c6b",
   "metadata": {},
   "outputs": [],
   "source": [
    "# this replaces the spaces with an underscore in the column names.\n",
    "cleanSales.columns = [c.replace(' ', '_') for c in cleanSales.columns]"
   ]
  },
  {
   "cell_type": "code",
   "execution_count": 57,
   "id": "2ef503c0-1833-4610-9d9d-17b57657ad5e",
   "metadata": {},
   "outputs": [],
   "source": [
    "# this saves only the rows in the Country, Item Type, Order Priority, and Order ID columns that aren't NULL\n",
    "# or 0.\n",
    "cleanSales = cleanSales[cleanSales.Country !=\"NULL\"]\n",
    "cleanSales = cleanSales[cleanSales.Item_Type != \"NULL\"]\n",
    "cleanSales = cleanSales[cleanSales.Order_Priority != \"NULL\"]\n",
    "cleanSales = cleanSales[cleanSales.Order_ID != 0]"
   ]
  },
  {
   "cell_type": "code",
   "execution_count": 58,
   "id": "928c8649-986c-4a7c-aa3a-f03310a00fcc",
   "metadata": {},
   "outputs": [
    {
     "name": "stdout",
     "output_type": "stream",
     "text": [
      "0\n",
      "0\n",
      "0\n",
      "0\n"
     ]
    }
   ],
   "source": [
    "# this checks that the missing or incorrect data have been cleaned.\n",
    "print(cleanSales['Country'][cleanSales['Country']=='NULL'].count())\n",
    "print(cleanSales['Item_Type'][cleanSales['Item_Type']=='NULL'].count())\n",
    "print(cleanSales['Order_Priority'][cleanSales['Order_Priority']=='NULL'].count())\n",
    "print(cleanSales['Order_ID'][cleanSales['Order_ID']==0].count())"
   ]
  },
  {
   "cell_type": "code",
   "execution_count": 59,
   "id": "877ec049-3e88-4adf-ad9d-4d157dc5199e",
   "metadata": {},
   "outputs": [],
   "source": [
    "# this saves the cleaned data to a new csv file.\n",
    "cleanSales.to_csv('MMDataSamples/MM_Sales_clean.csv')"
   ]
  },
  {
   "cell_type": "markdown",
   "id": "059cba6b-4fce-45fe-9460-d3c998e54cda",
   "metadata": {},
   "source": [
    "Part 2: Exploratory Data Analysis with Reports & Visualizations"
   ]
  },
  {
   "cell_type": "markdown",
   "id": "0b88523a-d3ad-4001-a7b2-04f843c4ba50",
   "metadata": {},
   "source": [
    "    1. Country Rankings"
   ]
  },
  {
   "cell_type": "code",
   "execution_count": 13,
   "id": "68e55d64-341d-4734-b085-209fbdc70630",
   "metadata": {},
   "outputs": [
    {
     "name": "stdout",
     "output_type": "stream",
     "text": [
      "Top 10 Countries with the Most Amount of Sales:\n",
      "\n",
      "Country\n",
      "Trinidad and Tobago                 321\n",
      "Guinea                              318\n",
      "Cape Verde                          314\n",
      "Maldives                            311\n",
      "Finland                             310\n",
      "Democratic Republic of the Congo    308\n",
      "Samoa                               306\n",
      "Malta                               305\n",
      "China                               303\n",
      "South Sudan                         302\n",
      "Name: Order_ID, dtype: int64\n"
     ]
    },
    {
     "data": {
      "image/png": "[encoded data removed]",
      "text/plain": [
       "<Figure size 1440x360 with 1 Axes>"
      ]
     },
     "metadata": {
      "needs_background": "light"
     },
     "output_type": "display_data"
    }
   ],
   "source": [
    "# this imports our cleaned data. It then uses the group by, count, and nlargest commands to return the top 10\n",
    "# countries that have the most sales. Finally, it creates a bar chart to visualize this.\n",
    "MMsales = pd.read_csv ('MMDataSamples/MM_Sales_clean.csv')\n",
    "\n",
    "sales1 = MMsales.groupby(['Country']).count()['Order_ID'].nlargest(10)\n",
    "print (\"Top 10 Countries with the Most Amount of Sales:\\n\")\n",
    "print (sales1)\n",
    "\n",
    "plt.figure(figsize=(20, 5))\n",
    "plt.bar(sales1.index, sales1.values)\n",
    "plt.title('Top 10 Countries with the Most Sales')\n",
    "plt.xlabel('Countries')\n",
    "plt.ylabel('Number of Sales')\n",
    "plt.show()"
   ]
  },
  {
   "cell_type": "code",
   "execution_count": 18,
   "id": "46caeb31-5747-46c6-8bee-0a64c13ffbad",
   "metadata": {},
   "outputs": [],
   "source": [
    "# this opens the txt file as a writer so that we can create the function \"AddtoMM_Ranking\" and append\n",
    "# the information that we found previously to that file.\n",
    "with open (\"MMDataSamples/Marvel_Mart_Rankings.txt\", \"a+\") as writer:\n",
    "    writer.write (\"MM Rankings\\n\")\n",
    "\n",
    "def AddtoMM_Ranking(info):\n",
    "    with open(\"MMDataSamples/Marvel_Mart_Rankings.txt\", \"a+\") as writer:\n",
    "        writer.write(\"\\n\")\n",
    "        writer.write(info)\n",
    "\n",
    "top10 = \"Countries Most Sale Transactions \\nTrinidad and Tobago: 321 \\nGuinea: 318 \\nCape Verde: 314 \\nMaldives: 311 \\nFinland: 310 \\nDemocratic Republic of the Congo: 308 \\nSamoa: 306 \\nMalta: 305 \\nChina: 303 \\nSouth Sudan: 302\\n\"\n",
    "AddtoMM_Ranking(top10)\n",
    "top10answer = \"The country we should build a shipping center in is Cape Verde, because it is ranked third in countries with the most amount of sales, and the only country in the top three selling countries without a shipping center.\\n\"\n",
    "AddtoMM_Ranking(top10answer)"
   ]
  },
  {
   "cell_type": "markdown",
   "id": "314ed1cc-bd89-44cd-a18d-5385999d2118",
   "metadata": {},
   "source": [
    "    2. Count of Sales Channels & Order Priorities"
   ]
  },
  {
   "cell_type": "code",
   "execution_count": 14,
   "id": "5e9974e9-ab46-45a4-84b1-0d4ae9719e47",
   "metadata": {},
   "outputs": [
    {
     "name": "stdout",
     "output_type": "stream",
     "text": [
      "Online     30183\n",
      "Offline    19788\n",
      "Name: Sales_Channel, dtype: int64\n"
     ]
    }
   ],
   "source": [
    "# this uses the value count command to find the count of distinct values in the Sales Channel column.\n",
    "channelType = MMsales['Sales_Channel'].value_counts()\n",
    "print(channelType)"
   ]
  },
  {
   "cell_type": "code",
   "execution_count": 15,
   "id": "500e8d63-6957-4abc-8d2c-598c96c64935",
   "metadata": {},
   "outputs": [
    {
     "name": "stdout",
     "output_type": "stream",
     "text": [
      "M    19881\n",
      "H    15094\n",
      "L     9984\n",
      "C     5012\n",
      "Name: Order_Priority, dtype: int64\n"
     ]
    }
   ],
   "source": [
    "# this uses the value count command to find the count of the distinct values in the Order Priority column.\n",
    "priorityType = MMsales['Order_Priority'].value_counts()\n",
    "print(priorityType)"
   ]
  },
  {
   "cell_type": "code",
   "execution_count": 66,
   "id": "7ff46b51-180b-478a-8195-702bb88cdca6",
   "metadata": {},
   "outputs": [
    {
     "data": {
      "image/png": "[encoded data removed]",
      "text/plain": [
       "<Figure size 504x504 with 1 Axes>"
      ]
     },
     "metadata": {},
     "output_type": "display_data"
    }
   ],
   "source": [
    "# this creates a pie chart with the information that we previously found.\n",
    "plt.figure(figsize=(7,7))\n",
    "plt.pie(channelType, labels=channelType.index, shadow=False, autopct='%.2f')\n",
    "plt.axis('equal') \n",
    "plt.legend(loc=2, title='Sales Channel')\n",
    "plt.show()"
   ]
  },
  {
   "cell_type": "code",
   "execution_count": 19,
   "id": "f7ebbf1a-ef6f-478d-9f4b-03177a2b880c",
   "metadata": {},
   "outputs": [],
   "source": [
    "# this uses the function \"AddtoMM_Ranking\" to append the Sales Channel information to the txt file. It then does\n",
    "# the same with the Order Priority information.\n",
    "channelTypes1 = \"Sales Channels: \\nOnline: 30183 \\nOffline: 19788 \\nWe do more online sales.\\n\"\n",
    "AddtoMM_Ranking(channelTypes1)\n",
    "\n",
    "priorityTypes1 = \"Order Priorities: \\nL: 9984 \\nM: 19881 \\nH: 15094 \\nC: 5012 \\nWe do more M order priorities.\\n\"\n",
    "AddtoMM_Ranking(priorityTypes1)"
   ]
  },
  {
   "cell_type": "markdown",
   "id": "412f8484-d5f8-49be-99ad-e12849b163e5",
   "metadata": {},
   "source": [
    "    3. Profits by Item Type"
   ]
  },
  {
   "cell_type": "code",
   "execution_count": 68,
   "id": "5de75948-fc74-4ba6-a2fa-c4e8a6cc24ab",
   "metadata": {},
   "outputs": [
    {
     "name": "stderr",
     "output_type": "stream",
     "text": [
      "C:\\Users\\amand\\anaconda3\\lib\\site-packages\\seaborn\\_decorators.py:36: FutureWarning: Pass the following variables as keyword args: x, y. From version 0.12, the only valid positional argument will be `data`, and passing other arguments without an explicit keyword will result in an error or misinterpretation.\n",
      "  warnings.warn(\n"
     ]
    },
    {
     "data": {
      "image/png": "[encoded data removed]",
      "text/plain": [
       "<Figure size 1080x360 with 1 Axes>"
      ]
     },
     "metadata": {
      "needs_background": "light"
     },
     "output_type": "display_data"
    }
   ],
   "source": [
    "# this creates a boxplot to show the Total Profit Distribution by Item Type.\n",
    "plt.figure(figsize=(15, 5))\n",
    "plt.title (\"Total Profit Distribution by Item Type\")\n",
    "ax = sns.boxplot(MMsales.Item_Type, MMsales.Total_Profit)"
   ]
  },
  {
   "cell_type": "code",
   "execution_count": 87,
   "id": "3c18143b-8b52-48f0-9c35-def355655765",
   "metadata": {},
   "outputs": [
    {
     "name": "stdout",
     "output_type": "stream",
     "text": [
      "Sum of Total Profit by Item Type:\n",
      "Item_Type\n",
      "Baby Food         1942865748.120\n",
      "Beverages          327559249.080\n",
      "Cereal            1824726412.290\n",
      "Clothes           1520832019.680\n",
      "Cosmetics         3638407966.750\n",
      "Fruits              51010570.920\n",
      "Household         3401180998.060\n",
      "Meat              1196342404.400\n",
      "Office Supplies   2605440187.500\n",
      "Personal Care      535250525.600\n",
      "Snacks            1149715758.720\n",
      "Vegetables        1322639660.240\n",
      "Name: Total_Profit, dtype: float64\n"
     ]
    }
   ],
   "source": [
    "# this uses the group by and sum function to find the sum of the Total Profit by each Item Type.\n",
    "itemType = MMsales.groupby(['Item_Type']).sum()['Total_Profit']\n",
    "print(\"Sum of Total Profit by Item Type:\")\n",
    "print(itemType)"
   ]
  },
  {
   "cell_type": "code",
   "execution_count": 88,
   "id": "40716093-1999-4f8d-a950-32feeb60d10a",
   "metadata": {},
   "outputs": [
    {
     "data": {
      "image/png": "[encoded data removed]",
      "text/plain": [
       "<Figure size 1080x360 with 1 Axes>"
      ]
     },
     "metadata": {
      "needs_background": "light"
     },
     "output_type": "display_data"
    }
   ],
   "source": [
    "# this creates a bar chart with the sums of the different Total Profits by Item Type.\n",
    "plt.figure(figsize=(15, 5))\n",
    "plt.bar(itemType.index, itemType.values)\n",
    "plt.title('Total Profits by Item Type')\n",
    "plt.xlabel('Item Type')\n",
    "plt.ylabel('Total Profit')\n",
    "plt.show()"
   ]
  },
  {
   "cell_type": "code",
   "execution_count": 89,
   "id": "f5004c0e-6a2a-4b01-82e4-158ed7c1fafa",
   "metadata": {},
   "outputs": [
    {
     "name": "stdout",
     "output_type": "stream",
     "text": [
      "Top 3 Item Types We Brought in the Most Profit:\n",
      "Item_Type\n",
      "Cosmetics         3638407966.750\n",
      "Household         3401180998.060\n",
      "Office Supplies   2605440187.500\n",
      "Name: Total_Profit, dtype: float64\n"
     ]
    }
   ],
   "source": [
    "# this uses the group by, sum, and nlargest command to return the top 3 Item Types that have the highest sum of\n",
    "# Total Profit.\n",
    "itemType1 = MMsales.groupby(['Item_Type']).sum()['Total_Profit'].nlargest(3)\n",
    "print(\"Top 3 Item Types We Brought in the Most Profit:\")\n",
    "print(itemType1)"
   ]
  },
  {
   "cell_type": "code",
   "execution_count": 20,
   "id": "0edc9106-186c-4544-8587-1492d4e13bdb",
   "metadata": {},
   "outputs": [],
   "source": [
    "# this uses the function \"AddtoMM_Ranking\" to add the Item Type information to the txt file.\n",
    "itemTypes2 = \"Highest Selling Items: \\nCosmetics: 3638407966.750 \\nHousehold: 3401180998.060 \\nOffice Supplies: 2605440187.500 \\nWe profitted from Cosmetics the most.\\n\"\n",
    "AddtoMM_Ranking(itemTypes2)"
   ]
  },
  {
   "cell_type": "markdown",
   "id": "2cf6bf67-00a2-41ba-850f-60d1e2e55d77",
   "metadata": {},
   "source": [
    "Taking a look at the boxplots that we created for the Total Profit Distribution by Item Types, we can see where the minimums, first quartiles, medians, third quartiles, and maximums fall. While Cosmetics has the highest maximum, third quartile, and first quartile, Fruits has a loweer Total Profits. From this, we are able to analyze that Cosmetics is most profitable for us and Fruits is the least. Because of this, we may want to consider focusing more of our marketing initiatives to increase the sales of Fruits. This may include doing more promotions/sales on those items so that more people are drawn into to buy them. However, if they are still unsuccessful after those initiatives, we may need to consider increasing the inventory of Cosmetics and other successful items, such as Household and Office Supplies, and cutting the inventory of Fruits and other less successful items, such as Beverages, and Personal Care."
   ]
  },
  {
   "cell_type": "markdown",
   "id": "b23551da-a95e-4b23-9952-ea7eb1893b79",
   "metadata": {},
   "source": [
    "    4. Descriptive Statistics"
   ]
  },
  {
   "cell_type": "code",
   "execution_count": 73,
   "id": "4c871d27-bd10-4ec3-b081-9c4b128f3e1a",
   "metadata": {},
   "outputs": [
    {
     "name": "stdout",
     "output_type": "stream",
     "text": [
      "Sums:\n",
      "Units Sold: 249818150\n",
      "Unit Cost: 9360768.320000002\n",
      "Total Revenue: 66145004417.17\n",
      "Total Cost: 46629032915.81\n",
      "Total Profit: 19515971501.36\n"
     ]
    }
   ],
   "source": [
    "# this uses the sum command to return the sum of the following columns. It then prints the following statements.\n",
    "unitsSold = MMsales['Units_Sold']\n",
    "unitCost = MMsales['Unit_Cost']\n",
    "totalRev = MMsales['Total_Revenue']\n",
    "totalCost = MMsales['Total_Cost']\n",
    "totalProfit = MMsales['Total_Profit']\n",
    "\n",
    "print (\"Sums:\")\n",
    "print(f\"Units Sold: {unitsSold.sum()}\")\n",
    "print(f\"Unit Cost: {unitCost.sum()}\")\n",
    "print(f\"Total Revenue: {totalRev.sum()}\")\n",
    "print(f\"Total Cost: {totalCost.sum()}\")\n",
    "print(f\"Total Profit: {totalProfit.sum()}\")"
   ]
  },
  {
   "cell_type": "code",
   "execution_count": 74,
   "id": "2c83949c-abfd-408d-bcad-64c289e0cd88",
   "metadata": {},
   "outputs": [
    {
     "name": "stdout",
     "output_type": "stream",
     "text": [
      "Averages:\n",
      "Average Units Sold: 4999.262572291929\n",
      "Average Unit Cost: 187.32401432829784\n",
      "Average Revenue: 1323667.8156764843\n",
      "Average Cost: 933121.8690002197\n",
      "Average Profit: 390545.94667627424\n"
     ]
    }
   ],
   "source": [
    "# this uses the mean command to return the averages of the following columns in the following statements. \n",
    "print (\"Averages:\")\n",
    "print(f\"Average Units Sold: {unitsSold.mean()}\")\n",
    "print(f\"Average Unit Cost: {unitCost.mean()}\")\n",
    "print(f\"Average Revenue: {totalRev.mean()}\")\n",
    "print(f\"Average Cost: {totalCost.mean()}\")\n",
    "print(f\"Average Profit: {totalProfit.mean()}\")"
   ]
  },
  {
   "cell_type": "code",
   "execution_count": 75,
   "id": "8dc671a3-92a0-4d7b-ac9a-60c25689c11f",
   "metadata": {},
   "outputs": [
    {
     "name": "stdout",
     "output_type": "stream",
     "text": [
      "Maxes:\n",
      "Max Units Sold: 10000\n",
      "Max Unit Cost: 524.96\n",
      "Max Total Revenue: 6682031.73\n",
      "Max Total Cost: 5249075.04\n",
      "Max Total Profit: 1738178.39\n"
     ]
    }
   ],
   "source": [
    "# this uses the max command to return the maximums of the following columns in the following statements. \n",
    "print (\"Maxes:\")\n",
    "print(f\"Max Units Sold: {unitsSold.max()}\")\n",
    "print(f\"Max Unit Cost: {unitCost.max()}\")\n",
    "print(f\"Max Total Revenue: {totalRev.max()}\")\n",
    "print(f\"Max Total Cost: {totalCost.max()}\")\n",
    "print(f\"Max Total Profit: {totalProfit.max()}\")"
   ]
  },
  {
   "cell_type": "code",
   "execution_count": 76,
   "id": "4e30b8b7-cc54-4276-a031-f95d93a6419d",
   "metadata": {},
   "outputs": [],
   "source": [
    "# this creates a dataframe with the sums, averages, and maximums that we previously calculated for each of the\n",
    "# columns.\n",
    "stats1 = {\"Sums\": [249818150, 9360768.320000002, 66145004417.17, 46629032915.81, 19515971501.36],\n",
    "        \"Averages\": [4999.262572291929, 187.32401432829784, 1323667.8156764843, 933121.8690002197, 390545.94667627424],\n",
    "        \"Maxes\": [10000, 524.96, 6682031.73, 5249075.04, 1738178.39]}\n",
    "\n",
    "statsDF = pd.DataFrame(stats1, index=['Units Sold', 'Unit Cost', 'Total Revenue', 'Total Cost', 'Total Profit'])"
   ]
  },
  {
   "cell_type": "code",
   "execution_count": 77,
   "id": "8e849ac9-d69f-4f58-b27e-616f08b3d054",
   "metadata": {},
   "outputs": [
    {
     "data": {
      "image/png": "[encoded data removed]",
      "text/plain": [
       "<Figure size 720x360 with 1 Axes>"
      ]
     },
     "metadata": {
      "needs_background": "light"
     },
     "output_type": "display_data"
    }
   ],
   "source": [
    "# this creates a line chart with the sums of each of the columns that we previously found.\n",
    "plt.figure(figsize=(10, 5))\n",
    "plt.plot(statsDF.index, statsDF.Sums)\n",
    "plt.xlabel('Sum')\n",
    "plt.title (\"Sums of Columns\")\n",
    "plt.show()"
   ]
  },
  {
   "cell_type": "code",
   "execution_count": 78,
   "id": "ac3225fb-e38e-4c4c-a5c0-67845eca0064",
   "metadata": {},
   "outputs": [
    {
     "data": {
      "text/plain": [
       "<AxesSubplot:>"
      ]
     },
     "execution_count": 78,
     "metadata": {},
     "output_type": "execute_result"
    },
    {
     "data": {
      "image/png": "[encoded data removed]",
      "text/plain": [
       "<Figure size 432x288 with 1 Axes>"
      ]
     },
     "metadata": {
      "needs_background": "light"
     },
     "output_type": "display_data"
    }
   ],
   "source": [
    "# this creates a line chart with the averages and maximums of each of the columns that we previously found.\n",
    "statsDF.iloc[:,1:].plot()"
   ]
  },
  {
   "cell_type": "code",
   "execution_count": 24,
   "id": "85324f7c-5ccc-4405-a85b-6f7f4d04df2b",
   "metadata": {},
   "outputs": [],
   "source": [
    "# this opens up our txt file as a writer so that we can create the function \"AddtoMM_Calc\". It then appends the\n",
    "# information that we previously found about the sums, averages, and maximums to the txt file.\n",
    "with open (\"MMDataSamples/Marvel_Mart_Calc.txt\", \"a+\") as writer:\n",
    "    writer.write (\"MM Calculations\\n\")\n",
    "def AddtoMM_Calc(info):\n",
    "    with open(\"MMDataSamples/Marvel_Mart_Calc.txt\", \"a+\") as writer:\n",
    "        writer.write(\"\\n\")\n",
    "        writer.write(info)\n",
    "\n",
    "sums = (\"Sums: \\nUnits Sold: 249818150 \\nUnit Cost: 9360768.320000002 \\nTotal Revenue: 66145004417.17 \\nTotal Cost: 46629032915.81 \\nTotal Profit: 19515971501.36\\n\")\n",
    "avgs = (\"Averages: \\nUnits Sold: 4999.262572291929 \\nUnit Cost: 187.32401432829784 \\nTotal Revenue: 1323667.8156764843 \\nTotal Cost: 933121.8690002197 \\nTotal Profit: 390545.94667627424\\n\")\n",
    "maxs = (\"Maxes: \\nUnits Sold: 10000 \\nUnit Cost: 524.96 \\nTotal Revenue: 6682031.73 \\nTotal Cost: 5249075.04 \\nTotal Profit: 1738178.39\\n\")\n",
    "\n",
    "AddtoMM_Calc(sums)\n",
    "AddtoMM_Calc(avgs)\n",
    "AddtoMM_Calc(maxs)"
   ]
  },
  {
   "cell_type": "markdown",
   "id": "ef2273d2-d13e-4cdd-9f95-18dcfbfa43c7",
   "metadata": {},
   "source": [
    "Part 3: Cross-Reference Statistics"
   ]
  },
  {
   "cell_type": "code",
   "execution_count": 23,
   "id": "603b1bc4-217f-47e2-8453-2372e4542e7b",
   "metadata": {},
   "outputs": [
    {
     "name": "stdout",
     "output_type": "stream",
     "text": [
      "List of Regions We Sell To:\n",
      "Region\n",
      "Asia                                  7346\n",
      "Australia and Oceania                 4016\n",
      "Central America and the Caribbean     5446\n",
      "Europe                               12836\n",
      "Middle East and North Africa          6119\n",
      "North America                         1099\n",
      "Sub-Saharan Africa                   13109\n",
      "Name: Country, dtype: int64\n"
     ]
    }
   ],
   "source": [
    "# this creates a list of the Regions we sell to by using the group by and count command.\n",
    "regions = MMsales.groupby(['Region']).count()['Country']\n",
    "print(\"List of Regions We Sell To:\")\n",
    "print(regions)"
   ]
  },
  {
   "cell_type": "code",
   "execution_count": 82,
   "id": "19fbfce8-d4a9-407a-9226-d148217f127d",
   "metadata": {},
   "outputs": [],
   "source": [
    "# this creates an empty list for each of the Regions. It then uses the for loop to go through each of the rows \n",
    "# in the csv file to check if the row matches the region we are testing for. After, it checks to see if the\n",
    "# Country is not in the corresponding list so that only distinct values are being appended. Once that is \n",
    "# complete, it creates a dictionary with the key as the Regions and the values as the lists we created.\n",
    "asia = []\n",
    "ao = []\n",
    "ca = []\n",
    "europe = []\n",
    "mena = []\n",
    "namerica = []\n",
    "ssafrica = []\n",
    "\n",
    "for index, row in MMsales.iterrows():\n",
    "    if row.loc['Region'] == 'Asia' and row.loc['Country'] not in asia:\n",
    "        asia.append(row.loc['Country'])\n",
    "\n",
    "for index, row in MMsales.iterrows():\n",
    "    if row.loc['Region'] == 'Australia and Oceania' and row.loc['Country'] not in ao:\n",
    "        ao.append(row.loc['Country'])\n",
    "        \n",
    "for index, row in MMsales.iterrows():\n",
    "    if row.loc['Region'] == 'Central America and the Caribbean' and row.loc['Country'] not in ca:\n",
    "        ca.append(row.loc['Country'])\n",
    "\n",
    "for index, row in MMsales.iterrows():\n",
    "    if row.loc['Region'] == 'Europe' and row.loc['Country'] not in europe:\n",
    "        europe.append(row.loc['Country'])\n",
    "        \n",
    "for index, row in MMsales.iterrows():\n",
    "    if row.loc['Region'] == 'Middle East and North Africa' and row.loc['Country'] not in mena:\n",
    "        mena.append(row.loc['Country'])\n",
    "\n",
    "for index, row in MMsales.iterrows():\n",
    "    if row.loc['Region'] == 'North America' and row.loc['Country'] not in namerica:\n",
    "        namerica.append(row.loc['Country'])\n",
    "\n",
    "for index, row in MMsales.iterrows():\n",
    "    if row.loc['Region'] == 'Sub-Saharan Africa' and row.loc['Country'] not in ssafrica:\n",
    "        ssafrica.append(row.loc['Country'])\n",
    "\n",
    "regionsDict = {\"Asia\": asia, \"Australia and Oceania\": ao, \"Central America and the Caribbean\": ca, \"Europe\": europe, \"Middle East and North Africa\": mena, \"North America\": namerica, \"Sub-Saharan Africa\": ssafrica}"
   ]
  },
  {
   "cell_type": "code",
   "execution_count": 90,
   "id": "d1d39261-beea-4fed-a7d6-1184c9ade6b3",
   "metadata": {},
   "outputs": [],
   "source": [
    "# this creates a dataframe from the dictionary that we previously created. It then makes sure that the\n",
    "# orientation of the datafram is correct. Finally, it saves our dataframe for Countries by Region to the csv\n",
    "# file.\n",
    "DF = pd.DataFrame.from_dict(regionsDict, orient='index')\n",
    "DF = DF.transpose()\n",
    "\n",
    "DF.to_csv('MMDataSamples/Countries_By_Region.csv', index=False)"
   ]
  }
 ],
 "metadata": {
  "kernelspec": {
   "display_name": "Python 3 (ipykernel)",
   "language": "python",
   "name": "python3"
  },
  "language_info": {
   "codemirror_mode": {
    "name": "ipython",
    "version": 3
   },
   "file_extension": ".py",
   "mimetype": "text/x-python",
   "name": "python",
   "nbconvert_exporter": "python",
   "pygments_lexer": "ipython3",
   "version": "3.9.7"
  }
 },
 "nbformat": 4,
 "nbformat_minor": 5
}
